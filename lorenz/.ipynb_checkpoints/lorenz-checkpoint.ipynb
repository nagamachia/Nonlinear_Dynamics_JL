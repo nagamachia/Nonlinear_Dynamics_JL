{
 "cells": [
  {
   "cell_type": "markdown",
   "metadata": {},
   "source": [
    "# パッケージのインポート"
   ]
  },
  {
   "cell_type": "code",
   "execution_count": 2,
   "metadata": {},
   "outputs": [
    {
     "name": "stderr",
     "output_type": "stream",
     "text": [
      "\u001b[32m\u001b[1m   Updating\u001b[22m\u001b[39m registry at `C:\\Users\\enlig\\.julia\\registries\\General`\n"
     ]
    },
    {
     "name": "stdout",
     "output_type": "stream",
     "text": [
      "\u001b[?25l"
     ]
    },
    {
     "name": "stderr",
     "output_type": "stream",
     "text": [
      "\u001b[32m\u001b[1m   Updating\u001b[22m\u001b[39m git-repo `https://github.com/JuliaRegistries/General.git`\n"
     ]
    },
    {
     "name": "stdout",
     "output_type": "stream",
     "text": [
      "\u001b[2K\u001b[?25h[1mFetching:\u001b[22m\u001b[39m [========================================>]  100.0 %"
     ]
    },
    {
     "name": "stderr",
     "output_type": "stream",
     "text": [
      "\u001b[32m\u001b[1m  Resolving\u001b[22m\u001b[39m package versions...\n",
      "\u001b[32m\u001b[1m   Updating\u001b[22m\u001b[39m `C:\\Users\\enlig\\.julia\\environments\\v1.4\\Project.toml`\n",
      "\u001b[90m [no changes]\u001b[39m\n",
      "\u001b[32m\u001b[1m   Updating\u001b[22m\u001b[39m `C:\\Users\\enlig\\.julia\\environments\\v1.4\\Manifest.toml`\n",
      "\u001b[90m [no changes]\u001b[39m\n",
      "\u001b[32m\u001b[1m  Resolving\u001b[22m\u001b[39m package versions...\n",
      "\u001b[32m\u001b[1m   Updating\u001b[22m\u001b[39m `C:\\Users\\enlig\\.julia\\environments\\v1.4\\Project.toml`\n",
      "\u001b[90m [no changes]\u001b[39m\n",
      "\u001b[32m\u001b[1m   Updating\u001b[22m\u001b[39m `C:\\Users\\enlig\\.julia\\environments\\v1.4\\Manifest.toml`\n",
      "\u001b[90m [no changes]\u001b[39m\n",
      "\u001b[32m\u001b[1m  Resolving\u001b[22m\u001b[39m package versions...\n",
      "\u001b[32m\u001b[1m   Updating\u001b[22m\u001b[39m `C:\\Users\\enlig\\.julia\\environments\\v1.4\\Project.toml`\n",
      "\u001b[90m [no changes]\u001b[39m\n",
      "\u001b[32m\u001b[1m   Updating\u001b[22m\u001b[39m `C:\\Users\\enlig\\.julia\\environments\\v1.4\\Manifest.toml`\n",
      "\u001b[90m [no changes]\u001b[39m\n",
      "\u001b[32m\u001b[1m  Resolving\u001b[22m\u001b[39m package versions...\n",
      "\u001b[32m\u001b[1m   Updating\u001b[22m\u001b[39m `C:\\Users\\enlig\\.julia\\environments\\v1.4\\Project.toml`\n",
      "\u001b[90m [no changes]\u001b[39m\n",
      "\u001b[32m\u001b[1m   Updating\u001b[22m\u001b[39m `C:\\Users\\enlig\\.julia\\environments\\v1.4\\Manifest.toml`\n",
      "\u001b[90m [no changes]\u001b[39m\n",
      "\u001b[32m\u001b[1m  Resolving\u001b[22m\u001b[39m package versions...\n",
      "\u001b[32m\u001b[1m   Updating\u001b[22m\u001b[39m `C:\\Users\\enlig\\.julia\\environments\\v1.4\\Project.toml`\n",
      "\u001b[90m [no changes]\u001b[39m\n",
      "\u001b[32m\u001b[1m   Updating\u001b[22m\u001b[39m `C:\\Users\\enlig\\.julia\\environments\\v1.4\\Manifest.toml`\n",
      "\u001b[90m [no changes]\u001b[39m\n",
      "\u001b[32m\u001b[1m  Resolving\u001b[22m\u001b[39m package versions...\n",
      "\u001b[32m\u001b[1m   Updating\u001b[22m\u001b[39m `C:\\Users\\enlig\\.julia\\environments\\v1.4\\Project.toml`\n",
      "\u001b[90m [no changes]\u001b[39m\n",
      "\u001b[32m\u001b[1m   Updating\u001b[22m\u001b[39m `C:\\Users\\enlig\\.julia\\environments\\v1.4\\Manifest.toml`\n",
      "\u001b[90m [no changes]\u001b[39m\n"
     ]
    }
   ],
   "source": [
    "using Pkg\n",
    "Pkg.add(\"ParameterizedFunctions\")\n",
    "Pkg.add(\"DifferentialEquations\")\n",
    "Pkg.add(\"GR\")\n",
    "Pkg.add(\"Plots\")\n",
    "Pkg.add(\"Gnuplot\")\n",
    "Pkg.add(\"CPUTime\")\n",
    "using ParameterizedFunctions, DifferentialEquations\n",
    "using Plots\n",
    "using Gnuplot, LinearAlgebra\n",
    "using CPUTime"
   ]
  },
  {
   "cell_type": "markdown",
   "metadata": {},
   "source": [
    "# ローレンツ方程式の計算\n",
    "$$\n",
    "    \\begin{eqnarray}\n",
    "        \\frac{d X}{d t} &=& p(Y-X) \\\\\n",
    "        \\frac{d Y}{d t} &=& X(r-Z) - Y \\\\\n",
    "        \\frac{d Z}{d t} &=& XY - bZ \\\\\n",
    "    \\end{eqnarray}\n",
    "$$"
   ]
  },
  {
   "cell_type": "code",
   "execution_count": 3,
   "metadata": {},
   "outputs": [
    {
     "name": "stdout",
     "output_type": "stream",
     "text": [
      "elapsed CPU time: 10.203 seconds\n"
     ]
    },
    {
     "data": {
      "text/plain": [
       "retcode: Success\n",
       "Interpolation: specialized 4th order \"free\" interpolation\n",
       "t: 10361-element Array{Float64,1}:\n",
       "   0.0\n",
       "   0.004003592681255692\n",
       "   0.00665336042508239\n",
       "   0.010542696948146657\n",
       "   0.014246091666894396\n",
       "   0.01854096232909828\n",
       "   0.022968070870703974\n",
       "   0.027747965969598637\n",
       "   0.0327353282142798\n",
       "   0.03798812944590305\n",
       "   0.0434604039202\n",
       "   0.04916693455918979\n",
       "   0.05509441018216484\n",
       "   ⋮\n",
       "  99.9117968891643\n",
       "  99.9197129846416\n",
       "  99.92772411354022\n",
       "  99.93583758870415\n",
       "  99.94405790068858\n",
       "  99.95237509994178\n",
       "  99.96075766003801\n",
       "  99.96915227063991\n",
       "  99.97749918691302\n",
       "  99.98574950857336\n",
       "  99.99387101686287\n",
       " 100.0\n",
       "u: 10361-element Array{Array{Float64,1},1}:\n",
       " [0.0, 1.01, 0.0]\n",
       " [0.039584184182551205, 1.007956668352718, 8.020756417881457e-5]\n",
       " [0.06491359414963876, 1.008749889971847, 0.0002190506640736516]\n",
       " [0.10098633963774345, 1.0128950382697912, 0.0005421757084000204]\n",
       " [0.13426145043360935, 1.0200289502865862, 0.00097873875941356]\n",
       " [0.1717394482433191, 1.0320604866190206, 0.0016403309808148293]\n",
       " [0.20934098429995956, 1.0485518738601745, 0.0024969575437548907]\n",
       " [0.24901799333851427, 1.0708796396346478, 0.00362417013500794]\n",
       " [0.2896729370806985, 1.0990543007788796, 0.005031705864689692]\n",
       " [0.33196996842701276, 1.134003409102511, 0.006782637406719055]\n",
       " [0.3757852919337041, 1.176084091300085, 0.008919464016767338]\n",
       " [0.421546964225273, 1.2260819464695023, 0.011516080024596323]\n",
       " [0.4695186198793647, 1.2846240652066028, 0.014650423857031518]\n",
       " ⋮\n",
       " [2.818463929301184, -1.8461012666647152, 26.75808273713585]\n",
       " [2.4627115615057646, -1.8627134589652485, 26.229983939088978]\n",
       " [2.129518549989111, -1.8656920864658557, 25.71028048413031]\n",
       " [1.8184155427696909, -1.8579386566031557, 25.198614215983095]\n",
       " [1.5288861061005374, -1.842077124921569, 24.694710652860827]\n",
       " [1.2607027848744186, -1.8205142862343509, 24.19907523083094]\n",
       " [1.0139519266920969, -1.7954953101424462, 23.713316279844975]\n",
       " [0.7888120452449863, -1.7690956051661995, 23.240025393210004]\n",
       " [0.5850345078840845, -1.7431192052271425, 22.781832169752974]\n",
       " [0.4016467452070219, -1.7189928471945835, 22.34050301097894]\n",
       " [0.2370858260835201, -1.6977469890862529, 21.9167623235948]\n",
       " [0.12248858712017135, -1.683846056686993, 21.603719801958405]"
      ]
     },
     "execution_count": 3,
     "metadata": {},
     "output_type": "execute_result"
    }
   ],
   "source": [
    "g = @ode_def LorenzExample begin\n",
    "    dx = p*(y-x) \n",
    "    dy = x*(r-z) - y\n",
    "    dz = x*y - b*z\n",
    "  end p r b\n",
    "\n",
    "u0 = [0.0;1.01;0.0]\n",
    "tspan = (0.0,100.0)\n",
    "p = [10.0,25.0,7/3]\n",
    "prob = ODEProblem(g,u0,tspan,p)\n",
    "\n",
    "@CPUtime sol = solve(prob,Tsit5(),reltol=1e-8,abstol=1e-8)\n",
    "# @CPUtime sol = solve(prob,Tsit5())\n",
    "# @CPUtime sol = solve(prob)"
   ]
  },
  {
   "cell_type": "markdown",
   "metadata": {},
   "source": [
    "# 描画"
   ]
  },
  {
   "cell_type": "code",
   "execution_count": 4,
   "metadata": {},
   "outputs": [
    {
     "name": "stdout",
     "output_type": "stream",
     "text": [
      "elapsed CPU time: 8.187 seconds\n"
     ]
    }
   ],
   "source": [
    "# plot using Plots\n",
    "function plt()\n",
    "    gr()\n",
    "    plot(sol,vars=(1,2,3))\n",
    "    savefig(\"lorenz.png\")\n",
    "end\n",
    "\n",
    "# plot using Gnuplot\n",
    "function pltgnu()\n",
    "    x, y, z = sol[1,:], sol[2,:], sol[3,:]\n",
    "    tempo = sol.t\n",
    "    @gsp \"set xyplane at -3\" \"set auto fix\" \"set grid\" :-\n",
    "    @gsp :- x y z tempo \"w l notit lc palette\" #palette(:plasma)\n",
    "    @gsp :- \"set title 'Lorenz attractor'\" \"set cblabel 'time'\"\n",
    "    @gsp :- xlab = \"x\" ylab = \"y\" zlab = \"z\"\n",
    "    save(term=\"pngcairo size 640,480\", output=\"lorenz_gnu.png\")\n",
    "end\n",
    "\n",
    "# @CPUtime plt()\n",
    "@CPUtime pltgnu()"
   ]
  },
  {
   "cell_type": "code",
   "execution_count": null,
   "metadata": {},
   "outputs": [],
   "source": []
  }
 ],
 "metadata": {
  "kernelspec": {
   "display_name": "Julia 1.4.2",
   "language": "julia",
   "name": "julia-1.4"
  },
  "language_info": {
   "file_extension": ".jl",
   "mimetype": "application/julia",
   "name": "julia",
   "version": "1.4.2"
  }
 },
 "nbformat": 4,
 "nbformat_minor": 4
}
